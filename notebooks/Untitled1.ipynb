{
 "cells": [
  {
   "cell_type": "code",
   "execution_count": 15,
   "id": "0e955fc5-b305-4388-9cc9-e3be8ef7f8a3",
   "metadata": {},
   "outputs": [],
   "source": [
    "using BPTT\n",
    "using Distributions, DSP, Plots, NPZ, FFTW\n",
    "using LombScargle, Deconvolution, Statistics\n"
   ]
  },
  {
   "cell_type": "code",
   "execution_count": 16,
   "id": "231959fe-ae58-4ba3-acc4-11c9eaf7f19e",
   "metadata": {},
   "outputs": [
    {
     "data": {
      "text/plain": [
       "1000-element Vector{Float64}:\n",
       "  0.3570097840005136\n",
       " -0.42425419749815063\n",
       "  1.21240612980455\n",
       " -0.450563476062537\n",
       " -1.100828215870636\n",
       "  0.5239483506583414\n",
       " -1.1395872746545512\n",
       "  1.2672549065276073\n",
       " -1.2185124288289586\n",
       "  0.34702489318389124\n",
       " -1.318248116719518\n",
       " -0.5871643040510574\n",
       " -1.3165363677300184\n",
       "  ⋮\n",
       " -1.0927509598527392\n",
       " -0.2703541193897858\n",
       " -1.9945831456821481\n",
       " -0.985103467148063\n",
       " -2.6576875022929483\n",
       "  0.045099730110341296\n",
       " -2.717868360448729\n",
       " -1.4048690253033598\n",
       " -1.1477521859123845\n",
       " -0.812507615649015\n",
       " -1.704093299284807\n",
       " -0.3191703456853012"
      ]
     },
     "execution_count": 16,
     "metadata": {},
     "output_type": "execute_result"
    }
   ],
   "source": [
    "t = range(0, stop=10, length=1000) # observation times\n",
    "x = sinpi.(t) .* cos.(5t) - 1.5cospi.(t) .* sin.(2t) # the original signal\n",
    "n = rand(length(x)) # noise to be added\n",
    "y = x + 3(n .- mean(n)) # observed noisy signal"
   ]
  },
  {
   "cell_type": "code",
   "execution_count": 34,
   "id": "2c7c40a5-2748-491f-9cc7-a2a301377e3a",
   "metadata": {},
   "outputs": [
    {
     "data": {
      "text/plain": [
       "spm_hrf (generic function with 1 method)"
      ]
     },
     "execution_count": 34,
     "metadata": {},
     "output_type": "execute_result"
    }
   ],
   "source": [
    "function spm_Gpdf(x, α, β)\n",
    "    k = α\n",
    "    Θ = 1/β\n",
    "    dist = Gamma(α,Θ)\n",
    "    return pdf.(dist, x)\n",
    "end\n",
    "\n",
    "function spm_hrf(RT)\n",
    "    p = [6., 16., 1., 1., 6., 0., 32.]\n",
    "    fMRI_T=16\n",
    "    \n",
    "    dt = RT / fMRI_T\n",
    "    u = (range(0, ceil(Int64,p[7]/dt), step=1) |> collect) .- (p[6]/dt)\n",
    "    \n",
    "    hrf = spm_Gpdf(u, p[1]/p[3], dt/p[3]) - spm_Gpdf(u, p[2]/p[4], dt/p[4])/p[5]\n",
    "    print(range(0, floor(Int64,p[7]/RT)))\n",
    "    hrf = hrf[range(0, floor(Int64,p[7]/RT))*fMRI_T .+ 1]\n",
    "    return hrf/sum(hrf)\n",
    "end"
   ]
  },
  {
   "cell_type": "code",
   "execution_count": 40,
   "id": "ee73a75b-b6a9-4fdb-bcd7-617b07bcd4ec",
   "metadata": {},
   "outputs": [
    {
     "name": "stdout",
     "output_type": "stream",
     "text": [
      "(1000,)\n",
      "(1000,)\n",
      "0:26"
     ]
    },
    {
     "data": {
      "image/svg+xml": [
       "<?xml version=\"1.0\" encoding=\"utf-8\"?>\n",
       "<svg xmlns=\"http://www.w3.org/2000/svg\" xmlns:xlink=\"http://www.w3.org/1999/xlink\" width=\"600\" height=\"400\" viewBox=\"0 0 2400 1600\">\n",
       "<defs>\n",
       "  <clipPath id=\"clip610\">\n",
       "    <rect x=\"0\" y=\"0\" width=\"2400\" height=\"1600\"/>\n",
       "  </clipPath>\n",
       "</defs>\n",
       "<path clip-path=\"url(#clip610)\" d=\"\n",
       "M0 1600 L2400 1600 L2400 0 L0 0  Z\n",
       "  \" fill=\"#ffffff\" fill-rule=\"evenodd\" fill-opacity=\"1\"/>\n",
       "<defs>\n",
       "  <clipPath id=\"clip611\">\n",
       "    <rect x=\"480\" y=\"0\" width=\"1681\" height=\"1600\"/>\n",
       "  </clipPath>\n",
       "</defs>\n",
       "<path clip-path=\"url(#clip610)\" d=\"\n",
       "M186.274 1486.45 L2352.76 1486.45 L2352.76 47.2441 L186.274 47.2441  Z\n",
       "  \" fill=\"#ffffff\" fill-rule=\"evenodd\" fill-opacity=\"1\"/>\n",
       "<defs>\n",
       "  <clipPath id=\"clip612\">\n",
       "    <rect x=\"186\" y=\"47\" width=\"2167\" height=\"1440\"/>\n",
       "  </clipPath>\n",
       "</defs>\n",
       "<polyline clip-path=\"url(#clip612)\" style=\"stroke:#000000; stroke-linecap:butt; stroke-linejoin:round; stroke-width:2; stroke-opacity:0.1; fill:none\" points=\"\n",
       "  562.028,1486.45 562.028,47.2441 \n",
       "  \"/>\n",
       "<polyline clip-path=\"url(#clip612)\" style=\"stroke:#000000; stroke-linecap:butt; stroke-linejoin:round; stroke-width:2; stroke-opacity:0.1; fill:none\" points=\"\n",
       "  955.076,1486.45 955.076,47.2441 \n",
       "  \"/>\n",
       "<polyline clip-path=\"url(#clip612)\" style=\"stroke:#000000; stroke-linecap:butt; stroke-linejoin:round; stroke-width:2; stroke-opacity:0.1; fill:none\" points=\"\n",
       "  1348.12,1486.45 1348.12,47.2441 \n",
       "  \"/>\n",
       "<polyline clip-path=\"url(#clip612)\" style=\"stroke:#000000; stroke-linecap:butt; stroke-linejoin:round; stroke-width:2; stroke-opacity:0.1; fill:none\" points=\"\n",
       "  1741.17,1486.45 1741.17,47.2441 \n",
       "  \"/>\n",
       "<polyline clip-path=\"url(#clip612)\" style=\"stroke:#000000; stroke-linecap:butt; stroke-linejoin:round; stroke-width:2; stroke-opacity:0.1; fill:none\" points=\"\n",
       "  2134.22,1486.45 2134.22,47.2441 \n",
       "  \"/>\n",
       "<polyline clip-path=\"url(#clip610)\" style=\"stroke:#000000; stroke-linecap:butt; stroke-linejoin:round; stroke-width:4; stroke-opacity:1; fill:none\" points=\"\n",
       "  186.274,1486.45 2352.76,1486.45 \n",
       "  \"/>\n",
       "<polyline clip-path=\"url(#clip610)\" style=\"stroke:#000000; stroke-linecap:butt; stroke-linejoin:round; stroke-width:4; stroke-opacity:1; fill:none\" points=\"\n",
       "  562.028,1486.45 562.028,1467.55 \n",
       "  \"/>\n",
       "<polyline clip-path=\"url(#clip610)\" style=\"stroke:#000000; stroke-linecap:butt; stroke-linejoin:round; stroke-width:4; stroke-opacity:1; fill:none\" points=\"\n",
       "  955.076,1486.45 955.076,1467.55 \n",
       "  \"/>\n",
       "<polyline clip-path=\"url(#clip610)\" style=\"stroke:#000000; stroke-linecap:butt; stroke-linejoin:round; stroke-width:4; stroke-opacity:1; fill:none\" points=\"\n",
       "  1348.12,1486.45 1348.12,1467.55 \n",
       "  \"/>\n",
       "<polyline clip-path=\"url(#clip610)\" style=\"stroke:#000000; stroke-linecap:butt; stroke-linejoin:round; stroke-width:4; stroke-opacity:1; fill:none\" points=\"\n",
       "  1741.17,1486.45 1741.17,1467.55 \n",
       "  \"/>\n",
       "<polyline clip-path=\"url(#clip610)\" style=\"stroke:#000000; stroke-linecap:butt; stroke-linejoin:round; stroke-width:4; stroke-opacity:1; fill:none\" points=\"\n",
       "  2134.22,1486.45 2134.22,1467.55 \n",
       "  \"/>\n",
       "<path clip-path=\"url(#clip610)\" d=\"M552.306 1514.29 L570.662 1514.29 L570.662 1518.22 L556.588 1518.22 L556.588 1526.7 Q557.607 1526.35 558.625 1526.19 Q559.644 1526 560.662 1526 Q566.449 1526 569.829 1529.17 Q573.209 1532.34 573.209 1537.76 Q573.209 1543.34 569.736 1546.44 Q566.264 1549.52 559.945 1549.52 Q557.769 1549.52 555.5 1549.15 Q553.255 1548.78 550.848 1548.04 L550.848 1543.34 Q552.931 1544.47 555.153 1545.03 Q557.375 1545.58 559.852 1545.58 Q563.857 1545.58 566.195 1543.48 Q568.533 1541.37 568.533 1537.76 Q568.533 1534.15 566.195 1532.04 Q563.857 1529.94 559.852 1529.94 Q557.977 1529.94 556.102 1530.35 Q554.25 1530.77 552.306 1531.65 L552.306 1514.29 Z\" fill=\"#000000\" fill-rule=\"evenodd\" fill-opacity=\"1\" /><path clip-path=\"url(#clip610)\" d=\"M929.764 1544.91 L937.403 1544.91 L937.403 1518.55 L929.093 1520.21 L929.093 1515.95 L937.357 1514.29 L942.032 1514.29 L942.032 1544.91 L949.671 1544.91 L949.671 1548.85 L929.764 1548.85 L929.764 1544.91 Z\" fill=\"#000000\" fill-rule=\"evenodd\" fill-opacity=\"1\" /><path clip-path=\"url(#clip610)\" d=\"M969.116 1517.37 Q965.505 1517.37 963.676 1520.93 Q961.87 1524.47 961.87 1531.6 Q961.87 1538.71 963.676 1542.27 Q965.505 1545.82 969.116 1545.82 Q972.75 1545.82 974.555 1542.27 Q976.384 1538.71 976.384 1531.6 Q976.384 1524.47 974.555 1520.93 Q972.75 1517.37 969.116 1517.37 M969.116 1513.66 Q974.926 1513.66 977.981 1518.27 Q981.06 1522.85 981.06 1531.6 Q981.06 1540.33 977.981 1544.94 Q974.926 1549.52 969.116 1549.52 Q963.305 1549.52 960.227 1544.94 Q957.171 1540.33 957.171 1531.6 Q957.171 1522.85 960.227 1518.27 Q963.305 1513.66 969.116 1513.66 Z\" fill=\"#000000\" fill-rule=\"evenodd\" fill-opacity=\"1\" /><path clip-path=\"url(#clip610)\" d=\"M1323.31 1544.91 L1330.95 1544.91 L1330.95 1518.55 L1322.64 1520.21 L1322.64 1515.95 L1330.9 1514.29 L1335.58 1514.29 L1335.58 1544.91 L1343.22 1544.91 L1343.22 1548.85 L1323.31 1548.85 L1323.31 1544.91 Z\" fill=\"#000000\" fill-rule=\"evenodd\" fill-opacity=\"1\" /><path clip-path=\"url(#clip610)\" d=\"M1352.71 1514.29 L1371.06 1514.29 L1371.06 1518.22 L1356.99 1518.22 L1356.99 1526.7 Q1358.01 1526.35 1359.03 1526.19 Q1360.05 1526 1361.06 1526 Q1366.85 1526 1370.23 1529.17 Q1373.61 1532.34 1373.61 1537.76 Q1373.61 1543.34 1370.14 1546.44 Q1366.67 1549.52 1360.35 1549.52 Q1358.17 1549.52 1355.9 1549.15 Q1353.66 1548.78 1351.25 1548.04 L1351.25 1543.34 Q1353.33 1544.47 1355.56 1545.03 Q1357.78 1545.58 1360.25 1545.58 Q1364.26 1545.58 1366.6 1543.48 Q1368.93 1541.37 1368.93 1537.76 Q1368.93 1534.15 1366.6 1532.04 Q1364.26 1529.94 1360.25 1529.94 Q1358.38 1529.94 1356.5 1530.35 Q1354.65 1530.77 1352.71 1531.65 L1352.71 1514.29 Z\" fill=\"#000000\" fill-rule=\"evenodd\" fill-opacity=\"1\" /><path clip-path=\"url(#clip610)\" d=\"M1719.95 1544.91 L1736.27 1544.91 L1736.27 1548.85 L1714.32 1548.85 L1714.32 1544.91 Q1716.98 1542.16 1721.57 1537.53 Q1726.17 1532.88 1727.35 1531.53 Q1729.6 1529.01 1730.48 1527.27 Q1731.38 1525.51 1731.38 1523.82 Q1731.38 1521.07 1729.44 1519.33 Q1727.52 1517.6 1724.41 1517.6 Q1722.21 1517.6 1719.76 1518.36 Q1717.33 1519.13 1714.55 1520.68 L1714.55 1515.95 Q1717.38 1514.82 1719.83 1514.24 Q1722.28 1513.66 1724.32 1513.66 Q1729.69 1513.66 1732.89 1516.35 Q1736.08 1519.03 1736.08 1523.52 Q1736.08 1525.65 1735.27 1527.57 Q1734.48 1529.47 1732.38 1532.07 Q1731.8 1532.74 1728.7 1535.95 Q1725.59 1539.15 1719.95 1544.91 Z\" fill=\"#000000\" fill-rule=\"evenodd\" fill-opacity=\"1\" /><path clip-path=\"url(#clip610)\" d=\"M1756.08 1517.37 Q1752.47 1517.37 1750.64 1520.93 Q1748.83 1524.47 1748.83 1531.6 Q1748.83 1538.71 1750.64 1542.27 Q1752.47 1545.82 1756.08 1545.82 Q1759.71 1545.82 1761.52 1542.27 Q1763.35 1538.71 1763.35 1531.6 Q1763.35 1524.47 1761.52 1520.93 Q1759.71 1517.37 1756.08 1517.37 M1756.08 1513.66 Q1761.89 1513.66 1764.95 1518.27 Q1768.02 1522.85 1768.02 1531.6 Q1768.02 1540.33 1764.95 1544.94 Q1761.89 1549.52 1756.08 1549.52 Q1750.27 1549.52 1747.19 1544.94 Q1744.14 1540.33 1744.14 1531.6 Q1744.14 1522.85 1747.19 1518.27 Q1750.27 1513.66 1756.08 1513.66 Z\" fill=\"#000000\" fill-rule=\"evenodd\" fill-opacity=\"1\" /><path clip-path=\"url(#clip610)\" d=\"M2113.49 1544.91 L2129.81 1544.91 L2129.81 1548.85 L2107.87 1548.85 L2107.87 1544.91 Q2110.53 1542.16 2115.11 1537.53 Q2119.72 1532.88 2120.9 1531.53 Q2123.14 1529.01 2124.02 1527.27 Q2124.93 1525.51 2124.93 1523.82 Q2124.93 1521.07 2122.98 1519.33 Q2121.06 1517.6 2117.96 1517.6 Q2115.76 1517.6 2113.31 1518.36 Q2110.88 1519.13 2108.1 1520.68 L2108.1 1515.95 Q2110.92 1514.82 2113.38 1514.24 Q2115.83 1513.66 2117.87 1513.66 Q2123.24 1513.66 2126.43 1516.35 Q2129.63 1519.03 2129.63 1523.52 Q2129.63 1525.65 2128.82 1527.57 Q2128.03 1529.47 2125.92 1532.07 Q2125.34 1532.74 2122.24 1535.95 Q2119.14 1539.15 2113.49 1544.91 Z\" fill=\"#000000\" fill-rule=\"evenodd\" fill-opacity=\"1\" /><path clip-path=\"url(#clip610)\" d=\"M2139.67 1514.29 L2158.03 1514.29 L2158.03 1518.22 L2143.95 1518.22 L2143.95 1526.7 Q2144.97 1526.35 2145.99 1526.19 Q2147.01 1526 2148.03 1526 Q2153.82 1526 2157.2 1529.17 Q2160.58 1532.34 2160.58 1537.76 Q2160.58 1543.34 2157.1 1546.44 Q2153.63 1549.52 2147.31 1549.52 Q2145.14 1549.52 2142.87 1549.15 Q2140.62 1548.78 2138.21 1548.04 L2138.21 1543.34 Q2140.3 1544.47 2142.52 1545.03 Q2144.74 1545.58 2147.22 1545.58 Q2151.22 1545.58 2153.56 1543.48 Q2155.9 1541.37 2155.9 1537.76 Q2155.9 1534.15 2153.56 1532.04 Q2151.22 1529.94 2147.22 1529.94 Q2145.34 1529.94 2143.47 1530.35 Q2141.62 1530.77 2139.67 1531.65 L2139.67 1514.29 Z\" fill=\"#000000\" fill-rule=\"evenodd\" fill-opacity=\"1\" /><polyline clip-path=\"url(#clip612)\" style=\"stroke:#000000; stroke-linecap:butt; stroke-linejoin:round; stroke-width:2; stroke-opacity:0.1; fill:none\" points=\"\n",
       "  186.274,1334.55 2352.76,1334.55 \n",
       "  \"/>\n",
       "<polyline clip-path=\"url(#clip612)\" style=\"stroke:#000000; stroke-linecap:butt; stroke-linejoin:round; stroke-width:2; stroke-opacity:0.1; fill:none\" points=\"\n",
       "  186.274,1086.81 2352.76,1086.81 \n",
       "  \"/>\n",
       "<polyline clip-path=\"url(#clip612)\" style=\"stroke:#000000; stroke-linecap:butt; stroke-linejoin:round; stroke-width:2; stroke-opacity:0.1; fill:none\" points=\"\n",
       "  186.274,839.066 2352.76,839.066 \n",
       "  \"/>\n",
       "<polyline clip-path=\"url(#clip612)\" style=\"stroke:#000000; stroke-linecap:butt; stroke-linejoin:round; stroke-width:2; stroke-opacity:0.1; fill:none\" points=\"\n",
       "  186.274,591.324 2352.76,591.324 \n",
       "  \"/>\n",
       "<polyline clip-path=\"url(#clip612)\" style=\"stroke:#000000; stroke-linecap:butt; stroke-linejoin:round; stroke-width:2; stroke-opacity:0.1; fill:none\" points=\"\n",
       "  186.274,343.581 2352.76,343.581 \n",
       "  \"/>\n",
       "<polyline clip-path=\"url(#clip612)\" style=\"stroke:#000000; stroke-linecap:butt; stroke-linejoin:round; stroke-width:2; stroke-opacity:0.1; fill:none\" points=\"\n",
       "  186.274,95.8388 2352.76,95.8388 \n",
       "  \"/>\n",
       "<polyline clip-path=\"url(#clip610)\" style=\"stroke:#000000; stroke-linecap:butt; stroke-linejoin:round; stroke-width:4; stroke-opacity:1; fill:none\" points=\"\n",
       "  186.274,1486.45 186.274,47.2441 \n",
       "  \"/>\n",
       "<polyline clip-path=\"url(#clip610)\" style=\"stroke:#000000; stroke-linecap:butt; stroke-linejoin:round; stroke-width:4; stroke-opacity:1; fill:none\" points=\"\n",
       "  186.274,1334.55 205.172,1334.55 \n",
       "  \"/>\n",
       "<polyline clip-path=\"url(#clip610)\" style=\"stroke:#000000; stroke-linecap:butt; stroke-linejoin:round; stroke-width:4; stroke-opacity:1; fill:none\" points=\"\n",
       "  186.274,1086.81 205.172,1086.81 \n",
       "  \"/>\n",
       "<polyline clip-path=\"url(#clip610)\" style=\"stroke:#000000; stroke-linecap:butt; stroke-linejoin:round; stroke-width:4; stroke-opacity:1; fill:none\" points=\"\n",
       "  186.274,839.066 205.172,839.066 \n",
       "  \"/>\n",
       "<polyline clip-path=\"url(#clip610)\" style=\"stroke:#000000; stroke-linecap:butt; stroke-linejoin:round; stroke-width:4; stroke-opacity:1; fill:none\" points=\"\n",
       "  186.274,591.324 205.172,591.324 \n",
       "  \"/>\n",
       "<polyline clip-path=\"url(#clip610)\" style=\"stroke:#000000; stroke-linecap:butt; stroke-linejoin:round; stroke-width:4; stroke-opacity:1; fill:none\" points=\"\n",
       "  186.274,343.581 205.172,343.581 \n",
       "  \"/>\n",
       "<polyline clip-path=\"url(#clip610)\" style=\"stroke:#000000; stroke-linecap:butt; stroke-linejoin:round; stroke-width:4; stroke-opacity:1; fill:none\" points=\"\n",
       "  186.274,95.8388 205.172,95.8388 \n",
       "  \"/>\n",
       "<path clip-path=\"url(#clip610)\" d=\"M62.9365 1320.35 Q59.3254 1320.35 57.4967 1323.92 Q55.6912 1327.46 55.6912 1334.59 Q55.6912 1341.69 57.4967 1345.26 Q59.3254 1348.8 62.9365 1348.8 Q66.5707 1348.8 68.3763 1345.26 Q70.205 1341.69 70.205 1334.59 Q70.205 1327.46 68.3763 1323.92 Q66.5707 1320.35 62.9365 1320.35 M62.9365 1316.65 Q68.7467 1316.65 71.8022 1321.25 Q74.8809 1325.84 74.8809 1334.59 Q74.8809 1343.31 71.8022 1347.92 Q68.7467 1352.5 62.9365 1352.5 Q57.1264 1352.5 54.0477 1347.92 Q50.9921 1343.31 50.9921 1334.59 Q50.9921 1325.84 54.0477 1321.25 Q57.1264 1316.65 62.9365 1316.65 Z\" fill=\"#000000\" fill-rule=\"evenodd\" fill-opacity=\"1\" /><path clip-path=\"url(#clip610)\" d=\"M83.0984 1345.95 L87.9827 1345.95 L87.9827 1351.83 L83.0984 1351.83 L83.0984 1345.95 Z\" fill=\"#000000\" fill-rule=\"evenodd\" fill-opacity=\"1\" /><path clip-path=\"url(#clip610)\" d=\"M108.168 1320.35 Q104.557 1320.35 102.728 1323.92 Q100.922 1327.46 100.922 1334.59 Q100.922 1341.69 102.728 1345.26 Q104.557 1348.8 108.168 1348.8 Q111.802 1348.8 113.608 1345.26 Q115.436 1341.69 115.436 1334.59 Q115.436 1327.46 113.608 1323.92 Q111.802 1320.35 108.168 1320.35 M108.168 1316.65 Q113.978 1316.65 117.033 1321.25 Q120.112 1325.84 120.112 1334.59 Q120.112 1343.31 117.033 1347.92 Q113.978 1352.5 108.168 1352.5 Q102.358 1352.5 99.2789 1347.92 Q96.2234 1343.31 96.2234 1334.59 Q96.2234 1325.84 99.2789 1321.25 Q102.358 1316.65 108.168 1316.65 Z\" fill=\"#000000\" fill-rule=\"evenodd\" fill-opacity=\"1\" /><path clip-path=\"url(#clip610)\" d=\"M138.33 1320.35 Q134.719 1320.35 132.89 1323.92 Q131.084 1327.46 131.084 1334.59 Q131.084 1341.69 132.89 1345.26 Q134.719 1348.8 138.33 1348.8 Q141.964 1348.8 143.769 1345.26 Q145.598 1341.69 145.598 1334.59 Q145.598 1327.46 143.769 1323.92 Q141.964 1320.35 138.33 1320.35 M138.33 1316.65 Q144.14 1316.65 147.195 1321.25 Q150.274 1325.84 150.274 1334.59 Q150.274 1343.31 147.195 1347.92 Q144.14 1352.5 138.33 1352.5 Q132.519 1352.5 129.441 1347.92 Q126.385 1343.31 126.385 1334.59 Q126.385 1325.84 129.441 1321.25 Q132.519 1316.65 138.33 1316.65 Z\" fill=\"#000000\" fill-rule=\"evenodd\" fill-opacity=\"1\" /><path clip-path=\"url(#clip610)\" d=\"M63.9319 1072.61 Q60.3208 1072.61 58.4921 1076.17 Q56.6865 1079.71 56.6865 1086.84 Q56.6865 1093.95 58.4921 1097.51 Q60.3208 1101.06 63.9319 1101.06 Q67.5661 1101.06 69.3717 1097.51 Q71.2004 1093.95 71.2004 1086.84 Q71.2004 1079.71 69.3717 1076.17 Q67.5661 1072.61 63.9319 1072.61 M63.9319 1068.9 Q69.742 1068.9 72.7976 1073.51 Q75.8763 1078.09 75.8763 1086.84 Q75.8763 1095.57 72.7976 1100.18 Q69.742 1104.76 63.9319 1104.76 Q58.1217 1104.76 55.043 1100.18 Q51.9875 1095.57 51.9875 1086.84 Q51.9875 1078.09 55.043 1073.51 Q58.1217 1068.9 63.9319 1068.9 Z\" fill=\"#000000\" fill-rule=\"evenodd\" fill-opacity=\"1\" /><path clip-path=\"url(#clip610)\" d=\"M84.0938 1098.21 L88.978 1098.21 L88.978 1104.09 L84.0938 1104.09 L84.0938 1098.21 Z\" fill=\"#000000\" fill-rule=\"evenodd\" fill-opacity=\"1\" /><path clip-path=\"url(#clip610)\" d=\"M109.163 1072.61 Q105.552 1072.61 103.723 1076.17 Q101.918 1079.71 101.918 1086.84 Q101.918 1093.95 103.723 1097.51 Q105.552 1101.06 109.163 1101.06 Q112.797 1101.06 114.603 1097.51 Q116.432 1093.95 116.432 1086.84 Q116.432 1079.71 114.603 1076.17 Q112.797 1072.61 109.163 1072.61 M109.163 1068.9 Q114.973 1068.9 118.029 1073.51 Q121.107 1078.09 121.107 1086.84 Q121.107 1095.57 118.029 1100.18 Q114.973 1104.76 109.163 1104.76 Q103.353 1104.76 100.274 1100.18 Q97.2187 1095.57 97.2187 1086.84 Q97.2187 1078.09 100.274 1073.51 Q103.353 1068.9 109.163 1068.9 Z\" fill=\"#000000\" fill-rule=\"evenodd\" fill-opacity=\"1\" /><path clip-path=\"url(#clip610)\" d=\"M129.371 1069.53 L147.728 1069.53 L147.728 1073.46 L133.654 1073.46 L133.654 1081.94 Q134.672 1081.59 135.691 1081.43 Q136.709 1081.24 137.728 1081.24 Q143.515 1081.24 146.894 1084.41 Q150.274 1087.58 150.274 1093 Q150.274 1098.58 146.802 1101.68 Q143.33 1104.76 137.01 1104.76 Q134.834 1104.76 132.566 1104.39 Q130.32 1104.02 127.913 1103.28 L127.913 1098.58 Q129.996 1099.71 132.219 1100.27 Q134.441 1100.83 136.918 1100.83 Q140.922 1100.83 143.26 1098.72 Q145.598 1096.61 145.598 1093 Q145.598 1089.39 143.26 1087.28 Q140.922 1085.18 136.918 1085.18 Q135.043 1085.18 133.168 1085.59 Q131.316 1086.01 129.371 1086.89 L129.371 1069.53 Z\" fill=\"#000000\" fill-rule=\"evenodd\" fill-opacity=\"1\" /><path clip-path=\"url(#clip610)\" d=\"M62.9365 824.865 Q59.3254 824.865 57.4967 828.43 Q55.6912 831.972 55.6912 839.101 Q55.6912 846.208 57.4967 849.772 Q59.3254 853.314 62.9365 853.314 Q66.5707 853.314 68.3763 849.772 Q70.205 846.208 70.205 839.101 Q70.205 831.972 68.3763 828.43 Q66.5707 824.865 62.9365 824.865 M62.9365 821.161 Q68.7467 821.161 71.8022 825.768 Q74.8809 830.351 74.8809 839.101 Q74.8809 847.828 71.8022 852.434 Q68.7467 857.018 62.9365 857.018 Q57.1264 857.018 54.0477 852.434 Q50.9921 847.828 50.9921 839.101 Q50.9921 830.351 54.0477 825.768 Q57.1264 821.161 62.9365 821.161 Z\" fill=\"#000000\" fill-rule=\"evenodd\" fill-opacity=\"1\" /><path clip-path=\"url(#clip610)\" d=\"M83.0984 850.467 L87.9827 850.467 L87.9827 856.346 L83.0984 856.346 L83.0984 850.467 Z\" fill=\"#000000\" fill-rule=\"evenodd\" fill-opacity=\"1\" /><path clip-path=\"url(#clip610)\" d=\"M98.978 852.411 L106.617 852.411 L106.617 826.046 L98.3067 827.712 L98.3067 823.453 L106.571 821.786 L111.246 821.786 L111.246 852.411 L118.885 852.411 L118.885 856.346 L98.978 856.346 L98.978 852.411 Z\" fill=\"#000000\" fill-rule=\"evenodd\" fill-opacity=\"1\" /><path clip-path=\"url(#clip610)\" d=\"M138.33 824.865 Q134.719 824.865 132.89 828.43 Q131.084 831.972 131.084 839.101 Q131.084 846.208 132.89 849.772 Q134.719 853.314 138.33 853.314 Q141.964 853.314 143.769 849.772 Q145.598 846.208 145.598 839.101 Q145.598 831.972 143.769 828.43 Q141.964 824.865 138.33 824.865 M138.33 821.161 Q144.14 821.161 147.195 825.768 Q150.274 830.351 150.274 839.101 Q150.274 847.828 147.195 852.434 Q144.14 857.018 138.33 857.018 Q132.519 857.018 129.441 852.434 Q126.385 847.828 126.385 839.101 Q126.385 830.351 129.441 825.768 Q132.519 821.161 138.33 821.161 Z\" fill=\"#000000\" fill-rule=\"evenodd\" fill-opacity=\"1\" /><path clip-path=\"url(#clip610)\" d=\"M63.9319 577.123 Q60.3208 577.123 58.4921 580.687 Q56.6865 584.229 56.6865 591.359 Q56.6865 598.465 58.4921 602.03 Q60.3208 605.571 63.9319 605.571 Q67.5661 605.571 69.3717 602.03 Q71.2004 598.465 71.2004 591.359 Q71.2004 584.229 69.3717 580.687 Q67.5661 577.123 63.9319 577.123 M63.9319 573.419 Q69.742 573.419 72.7976 578.025 Q75.8763 582.609 75.8763 591.359 Q75.8763 600.085 72.7976 604.692 Q69.742 609.275 63.9319 609.275 Q58.1217 609.275 55.043 604.692 Q51.9875 600.085 51.9875 591.359 Q51.9875 582.609 55.043 578.025 Q58.1217 573.419 63.9319 573.419 Z\" fill=\"#000000\" fill-rule=\"evenodd\" fill-opacity=\"1\" /><path clip-path=\"url(#clip610)\" d=\"M84.0938 602.724 L88.978 602.724 L88.978 608.604 L84.0938 608.604 L84.0938 602.724 Z\" fill=\"#000000\" fill-rule=\"evenodd\" fill-opacity=\"1\" /><path clip-path=\"url(#clip610)\" d=\"M99.9733 604.669 L107.612 604.669 L107.612 578.303 L99.3021 579.97 L99.3021 575.711 L107.566 574.044 L112.242 574.044 L112.242 604.669 L119.881 604.669 L119.881 608.604 L99.9733 608.604 L99.9733 604.669 Z\" fill=\"#000000\" fill-rule=\"evenodd\" fill-opacity=\"1\" /><path clip-path=\"url(#clip610)\" d=\"M129.371 574.044 L147.728 574.044 L147.728 577.979 L133.654 577.979 L133.654 586.451 Q134.672 586.104 135.691 585.942 Q136.709 585.757 137.728 585.757 Q143.515 585.757 146.894 588.928 Q150.274 592.099 150.274 597.516 Q150.274 603.095 146.802 606.196 Q143.33 609.275 137.01 609.275 Q134.834 609.275 132.566 608.905 Q130.32 608.534 127.913 607.794 L127.913 603.095 Q129.996 604.229 132.219 604.784 Q134.441 605.34 136.918 605.34 Q140.922 605.34 143.26 603.234 Q145.598 601.127 145.598 597.516 Q145.598 593.905 143.26 591.798 Q140.922 589.692 136.918 589.692 Q135.043 589.692 133.168 590.109 Q131.316 590.525 129.371 591.405 L129.371 574.044 Z\" fill=\"#000000\" fill-rule=\"evenodd\" fill-opacity=\"1\" /><path clip-path=\"url(#clip610)\" d=\"M62.9365 329.38 Q59.3254 329.38 57.4967 332.945 Q55.6912 336.486 55.6912 343.616 Q55.6912 350.722 57.4967 354.287 Q59.3254 357.829 62.9365 357.829 Q66.5707 357.829 68.3763 354.287 Q70.205 350.722 70.205 343.616 Q70.205 336.486 68.3763 332.945 Q66.5707 329.38 62.9365 329.38 M62.9365 325.676 Q68.7467 325.676 71.8022 330.283 Q74.8809 334.866 74.8809 343.616 Q74.8809 352.343 71.8022 356.949 Q68.7467 361.533 62.9365 361.533 Q57.1264 361.533 54.0477 356.949 Q50.9921 352.343 50.9921 343.616 Q50.9921 334.866 54.0477 330.283 Q57.1264 325.676 62.9365 325.676 Z\" fill=\"#000000\" fill-rule=\"evenodd\" fill-opacity=\"1\" /><path clip-path=\"url(#clip610)\" d=\"M83.0984 354.982 L87.9827 354.982 L87.9827 360.861 L83.0984 360.861 L83.0984 354.982 Z\" fill=\"#000000\" fill-rule=\"evenodd\" fill-opacity=\"1\" /><path clip-path=\"url(#clip610)\" d=\"M102.196 356.926 L118.515 356.926 L118.515 360.861 L96.5706 360.861 L96.5706 356.926 Q99.2326 354.172 103.816 349.542 Q108.422 344.889 109.603 343.547 Q111.848 341.023 112.728 339.287 Q113.631 337.528 113.631 335.838 Q113.631 333.084 111.686 331.348 Q109.765 329.611 106.663 329.611 Q104.464 329.611 102.01 330.375 Q99.5798 331.139 96.8021 332.69 L96.8021 327.968 Q99.6261 326.834 102.08 326.255 Q104.534 325.676 106.571 325.676 Q111.941 325.676 115.135 328.361 Q118.33 331.047 118.33 335.537 Q118.33 337.667 117.52 339.588 Q116.733 341.486 114.626 344.079 Q114.047 344.75 110.946 347.968 Q107.844 351.162 102.196 356.926 Z\" fill=\"#000000\" fill-rule=\"evenodd\" fill-opacity=\"1\" /><path clip-path=\"url(#clip610)\" d=\"M138.33 329.38 Q134.719 329.38 132.89 332.945 Q131.084 336.486 131.084 343.616 Q131.084 350.722 132.89 354.287 Q134.719 357.829 138.33 357.829 Q141.964 357.829 143.769 354.287 Q145.598 350.722 145.598 343.616 Q145.598 336.486 143.769 332.945 Q141.964 329.38 138.33 329.38 M138.33 325.676 Q144.14 325.676 147.195 330.283 Q150.274 334.866 150.274 343.616 Q150.274 352.343 147.195 356.949 Q144.14 361.533 138.33 361.533 Q132.519 361.533 129.441 356.949 Q126.385 352.343 126.385 343.616 Q126.385 334.866 129.441 330.283 Q132.519 325.676 138.33 325.676 Z\" fill=\"#000000\" fill-rule=\"evenodd\" fill-opacity=\"1\" /><path clip-path=\"url(#clip610)\" d=\"M63.9319 81.6375 Q60.3208 81.6375 58.4921 85.2022 Q56.6865 88.7439 56.6865 95.8735 Q56.6865 102.98 58.4921 106.545 Q60.3208 110.086 63.9319 110.086 Q67.5661 110.086 69.3717 106.545 Q71.2004 102.98 71.2004 95.8735 Q71.2004 88.7439 69.3717 85.2022 Q67.5661 81.6375 63.9319 81.6375 M63.9319 77.9338 Q69.742 77.9338 72.7976 82.5402 Q75.8763 87.1235 75.8763 95.8735 Q75.8763 104.6 72.7976 109.207 Q69.742 113.79 63.9319 113.79 Q58.1217 113.79 55.043 109.207 Q51.9875 104.6 51.9875 95.8735 Q51.9875 87.1235 55.043 82.5402 Q58.1217 77.9338 63.9319 77.9338 Z\" fill=\"#000000\" fill-rule=\"evenodd\" fill-opacity=\"1\" /><path clip-path=\"url(#clip610)\" d=\"M84.0938 107.239 L88.978 107.239 L88.978 113.119 L84.0938 113.119 L84.0938 107.239 Z\" fill=\"#000000\" fill-rule=\"evenodd\" fill-opacity=\"1\" /><path clip-path=\"url(#clip610)\" d=\"M103.191 109.184 L119.51 109.184 L119.51 113.119 L97.566 113.119 L97.566 109.184 Q100.228 106.429 104.811 101.799 Q109.418 97.1466 110.598 95.804 Q112.844 93.2809 113.723 91.5448 Q114.626 89.7856 114.626 88.0958 Q114.626 85.3411 112.682 83.605 Q110.76 81.8689 107.658 81.8689 Q105.459 81.8689 103.006 82.6328 Q100.575 83.3967 97.7974 84.9476 L97.7974 80.2254 Q100.621 79.0912 103.075 78.5125 Q105.529 77.9338 107.566 77.9338 Q112.936 77.9338 116.131 80.6189 Q119.325 83.3041 119.325 87.7948 Q119.325 89.9244 118.515 91.8457 Q117.728 93.7439 115.621 96.3364 Q115.043 97.0077 111.941 100.225 Q108.839 103.42 103.191 109.184 Z\" fill=\"#000000\" fill-rule=\"evenodd\" fill-opacity=\"1\" /><path clip-path=\"url(#clip610)\" d=\"M129.371 78.5588 L147.728 78.5588 L147.728 82.4939 L133.654 82.4939 L133.654 90.9661 Q134.672 90.6189 135.691 90.4569 Q136.709 90.2717 137.728 90.2717 Q143.515 90.2717 146.894 93.4429 Q150.274 96.6142 150.274 102.031 Q150.274 107.61 146.802 110.711 Q143.33 113.79 137.01 113.79 Q134.834 113.79 132.566 113.42 Q130.32 113.049 127.913 112.309 L127.913 107.61 Q129.996 108.744 132.219 109.299 Q134.441 109.855 136.918 109.855 Q140.922 109.855 143.26 107.748 Q145.598 105.642 145.598 102.031 Q145.598 98.4198 143.26 96.3133 Q140.922 94.2068 136.918 94.2068 Q135.043 94.2068 133.168 94.6235 Q131.316 95.0402 129.371 95.9198 L129.371 78.5588 Z\" fill=\"#000000\" fill-rule=\"evenodd\" fill-opacity=\"1\" /><polyline clip-path=\"url(#clip612)\" style=\"stroke:#009af9; stroke-linecap:butt; stroke-linejoin:round; stroke-width:4; stroke-opacity:1; fill:none\" points=\"\n",
       "  247.59,1445.72 326.199,1440.73 404.809,1426.27 483.418,1407.93 562.028,1389.67 640.638,1373.77 719.247,1361.16 797.857,1351.86 876.467,1345.4 955.076,1341.12 \n",
       "  1033.69,1338.4 1112.3,1336.75 1190.91,1335.77 1269.51,1335.21 1348.12,1334.55 1426.73,1289.99 1505.34,905.096 1583.95,352.309 1662.56,87.9763 1741.17,189.681 \n",
       "  1819.78,480.631 1898.39,790.405 1977,1039.62 2055.61,1215.19 2134.22,1329.73 2212.83,1398.76 2291.44,1434.34 \n",
       "  \"/>\n",
       "<path clip-path=\"url(#clip610)\" d=\"\n",
       "M1987.39 198.898 L2280.54 198.898 L2280.54 95.2176 L1987.39 95.2176  Z\n",
       "  \" fill=\"#ffffff\" fill-rule=\"evenodd\" fill-opacity=\"1\"/>\n",
       "<polyline clip-path=\"url(#clip610)\" style=\"stroke:#000000; stroke-linecap:butt; stroke-linejoin:round; stroke-width:4; stroke-opacity:1; fill:none\" points=\"\n",
       "  1987.39,198.898 2280.54,198.898 2280.54,95.2176 1987.39,95.2176 1987.39,198.898 \n",
       "  \"/>\n",
       "<polyline clip-path=\"url(#clip610)\" style=\"stroke:#009af9; stroke-linecap:butt; stroke-linejoin:round; stroke-width:4; stroke-opacity:1; fill:none\" points=\"\n",
       "  2011.46,147.058 2155.89,147.058 \n",
       "  \"/>\n",
       "<path clip-path=\"url(#clip610)\" d=\"M2193.81 166.745 Q2192 171.375 2190.29 172.787 Q2188.58 174.199 2185.71 174.199 L2182.3 174.199 L2182.3 170.634 L2184.8 170.634 Q2186.56 170.634 2187.53 169.8 Q2188.51 168.967 2189.69 165.865 L2190.45 163.921 L2179.97 138.412 L2184.48 138.412 L2192.58 158.689 L2200.68 138.412 L2205.2 138.412 L2193.81 166.745 Z\" fill=\"#000000\" fill-rule=\"evenodd\" fill-opacity=\"1\" /><path clip-path=\"url(#clip610)\" d=\"M2212.49 160.402 L2220.13 160.402 L2220.13 134.037 L2211.82 135.703 L2211.82 131.444 L2220.08 129.778 L2224.76 129.778 L2224.76 160.402 L2232.4 160.402 L2232.4 164.338 L2212.49 164.338 L2212.49 160.402 Z\" fill=\"#000000\" fill-rule=\"evenodd\" fill-opacity=\"1\" /></svg>\n"
      ]
     },
     "execution_count": 40,
     "metadata": {},
     "output_type": "execute_result"
    }
   ],
   "source": [
    "# Gaussian blurring kernel\n",
    "kernel = exp.( - 10 .* (t .- 5).^2)\n",
    "kernel ./= sum(kernel) # normalize kernel to sum of 1\n",
    "println(size(kernel))\n",
    "println(size(signal))\n",
    "\n",
    "kernel = spm_hrf(1.2)\n",
    "\n",
    "kernel = ifftshift(kernel) # move center to index pos 1\n",
    "plot(kernel)\n",
    "\n"
   ]
  },
  {
   "cell_type": "code",
   "execution_count": 37,
   "id": "b679a766-4652-48c5-b0ce-1897af9f68eb",
   "metadata": {},
   "outputs": [
    {
     "data": {
      "text/plain": [
       "1000-element Vector{Float64}:\n",
       " -0.006889664210832279\n",
       "  0.038268070217702024\n",
       "  0.08336081861332365\n",
       "  0.12808960595740776\n",
       "  0.17215787037459612\n",
       "  0.21527342940443417\n",
       "  0.25715041723650667\n",
       "  0.2975111800647693\n",
       "  0.3360881169944523\n",
       "  0.3726254542959119\n",
       "  0.4068809412417281\n",
       "  0.4386274562832702\n",
       "  0.4676545129174194\n",
       "  ⋮\n",
       " -0.5019914525672045\n",
       " -0.4870281781255078\n",
       " -0.46864705797060663\n",
       " -0.44696996304485953\n",
       " -0.4221406173413699\n",
       " -0.39432364498171235\n",
       " -0.3637034787211573\n",
       " -0.3304831371182038\n",
       " -0.29488287847607386\n",
       " -0.25713874048086377\n",
       " -0.21750097521880418\n",
       " -0.17623238994891366"
      ]
     },
     "execution_count": 37,
     "metadata": {},
     "output_type": "execute_result"
    }
   ],
   "source": [
    "p = lombscargle(t, y, maximum_frequency=2, samples_per_peak=10)\n",
    "\n",
    "m1 = LombScargle.model(t, y, findmaxfreq(p, [0, 0.5])[1]) # first model\n",
    "m2 = LombScargle.model(t, y, findmaxfreq(p, [0.5, 1])[1]) # second model\n",
    "m3 = LombScargle.model(t, y, findmaxfreq(p, [1, 1.5])[1]) # third model"
   ]
  },
  {
   "cell_type": "code",
   "execution_count": 38,
   "id": "35cb56b4-5b67-4cbc-8717-0da4364c4f5c",
   "metadata": {},
   "outputs": [
    {
     "ename": "LoadError",
     "evalue": "DimensionMismatch(\"arrays could not be broadcast to a common size; got a dimension with lengths 27 and 1000\")",
     "output_type": "error",
     "traceback": [
      "DimensionMismatch(\"arrays could not be broadcast to a common size; got a dimension with lengths 27 and 1000\")",
      "",
      "Stacktrace:",
      " [1] _bcs1",
      "   @ ./broadcast.jl:516 [inlined]",
      " [2] _bcs",
      "   @ ./broadcast.jl:510 [inlined]",
      " [3] broadcast_shape",
      "   @ ./broadcast.jl:504 [inlined]",
      " [4] combine_axes",
      "   @ ./broadcast.jl:499 [inlined]",
      " [5] instantiate",
      "   @ ./broadcast.jl:281 [inlined]",
      " [6] materialize(bc::Base.Broadcast.Broadcasted{Base.Broadcast.DefaultArrayStyle{1}, Nothing, typeof(*), Tuple{Vector{ComplexF64}, Vector{ComplexF64}}})",
      "   @ Base.Broadcast ./broadcast.jl:860",
      " [7] top-level scope",
      "   @ In[38]:4",
      " [8] eval",
      "   @ ./boot.jl:373 [inlined]",
      " [9] include_string(mapexpr::typeof(REPL.softscope), mod::Module, code::String, filename::String)",
      "   @ Base ./loading.jl:1196"
     ]
    }
   ],
   "source": [
    "signal = m1 + m2 + m3 # signal for `wiener`\n",
    "noise = rand(length(y)) # noise for `wiener`\n",
    "\n",
    "y_blurred = real(ifft(fft(kernel) .* fft(x))) + noise\n",
    "deblurred = wiener(y_blurred, signal, noise, kernel)\n",
    "\n",
    "plot(t, x, size=(900, 600), label=\"Original signal\", linewidth=2)\n",
    "plot!(t, deblurred, label=\"Deblurred with Wiener\")"
   ]
  },
  {
   "cell_type": "code",
   "execution_count": 54,
   "id": "95a0efe8-9b26-4db6-98a5-9e4b7d88a627",
   "metadata": {},
   "outputs": [
    {
     "name": "stderr",
     "output_type": "stream",
     "text": [
      "┌ Info: Precompiling ImageView [86fae568-95e7-573e-a6b2-d8a6b900c9ef]\n",
      "└ @ Base loading.jl:1423\n",
      "\u001b[91m\u001b[1mERROR: \u001b[22m\u001b[39mLoadError: InitError: Cannot open display: \n",
      "Stacktrace:\n",
      "  [1] \u001b[0m\u001b[1merror\u001b[22m\u001b[0m\u001b[1m(\u001b[22m\u001b[90ms\u001b[39m::\u001b[0mString\u001b[0m\u001b[1m)\u001b[22m\n",
      "\u001b[90m    @ \u001b[39m\u001b[90mBase\u001b[39m \u001b[90m./\u001b[39m\u001b[90m\u001b[4merror.jl:33\u001b[24m\u001b[39m\n",
      "  [2] \u001b[0m\u001b[1mGtk.GLib.GError\u001b[22m\u001b[0m\u001b[1m(\u001b[22m\u001b[90mf\u001b[39m::\u001b[0mGtk.var\"#329#338\"\u001b[0m\u001b[1m)\u001b[22m\n",
      "\u001b[90m    @ \u001b[39m\u001b[35mGtk.GLib\u001b[39m \u001b[90m~/.julia/packages/Gtk/OyCvN/src/GLib/\u001b[39m\u001b[90m\u001b[4mgerror.jl:17\u001b[24m\u001b[39m\n",
      "  [3] \u001b[0m\u001b[1m__init__\u001b[22m\u001b[0m\u001b[1m(\u001b[22m\u001b[0m\u001b[1m)\u001b[22m\n",
      "\u001b[90m    @ \u001b[39m\u001b[35mGtk\u001b[39m \u001b[90m~/.julia/packages/Gtk/OyCvN/src/\u001b[39m\u001b[90m\u001b[4mGtk.jl:158\u001b[24m\u001b[39m\n",
      "  [4] \u001b[0m\u001b[1m_include_from_serialized\u001b[22m\u001b[0m\u001b[1m(\u001b[22m\u001b[90mpath\u001b[39m::\u001b[0mString, \u001b[90mdepmods\u001b[39m::\u001b[0mVector\u001b[90m{Any}\u001b[39m\u001b[0m\u001b[1m)\u001b[22m\n",
      "\u001b[90m    @ \u001b[39m\u001b[90mBase\u001b[39m \u001b[90m./\u001b[39m\u001b[90m\u001b[4mloading.jl:768\u001b[24m\u001b[39m\n",
      "  [5] \u001b[0m\u001b[1m_require_search_from_serialized\u001b[22m\u001b[0m\u001b[1m(\u001b[22m\u001b[90mpkg\u001b[39m::\u001b[0mBase.PkgId, \u001b[90msourcepath\u001b[39m::\u001b[0mString\u001b[0m\u001b[1m)\u001b[22m\n",
      "\u001b[90m    @ \u001b[39m\u001b[90mBase\u001b[39m \u001b[90m./\u001b[39m\u001b[90m\u001b[4mloading.jl:854\u001b[24m\u001b[39m\n",
      "  [6] \u001b[0m\u001b[1m_require\u001b[22m\u001b[0m\u001b[1m(\u001b[22m\u001b[90mpkg\u001b[39m::\u001b[0mBase.PkgId\u001b[0m\u001b[1m)\u001b[22m\n",
      "\u001b[90m    @ \u001b[39m\u001b[90mBase\u001b[39m \u001b[90m./\u001b[39m\u001b[90m\u001b[4mloading.jl:1097\u001b[24m\u001b[39m\n",
      "  [7] \u001b[0m\u001b[1mrequire\u001b[22m\u001b[0m\u001b[1m(\u001b[22m\u001b[90muuidkey\u001b[39m::\u001b[0mBase.PkgId\u001b[0m\u001b[1m)\u001b[22m\n",
      "\u001b[90m    @ \u001b[39m\u001b[90mBase\u001b[39m \u001b[90m./\u001b[39m\u001b[90m\u001b[4mloading.jl:1013\u001b[24m\u001b[39m\n",
      "  [8] \u001b[0m\u001b[1mrequire\u001b[22m\u001b[0m\u001b[1m(\u001b[22m\u001b[90minto\u001b[39m::\u001b[0mModule, \u001b[90mmod\u001b[39m::\u001b[0mSymbol\u001b[0m\u001b[1m)\u001b[22m\n",
      "\u001b[90m    @ \u001b[39m\u001b[90mBase\u001b[39m \u001b[90m./\u001b[39m\u001b[90m\u001b[4mloading.jl:997\u001b[24m\u001b[39m\n",
      "  [9] \u001b[0m\u001b[1minclude\u001b[22m\n",
      "\u001b[90m    @ \u001b[39m\u001b[90m./\u001b[39m\u001b[90m\u001b[4mBase.jl:418\u001b[24m\u001b[39m\u001b[90m [inlined]\u001b[39m\n",
      " [10] \u001b[0m\u001b[1minclude_package_for_output\u001b[22m\u001b[0m\u001b[1m(\u001b[22m\u001b[90mpkg\u001b[39m::\u001b[0mBase.PkgId, \u001b[90minput\u001b[39m::\u001b[0mString, \u001b[90mdepot_path\u001b[39m::\u001b[0mVector\u001b[90m{String}\u001b[39m, \u001b[90mdl_load_path\u001b[39m::\u001b[0mVector\u001b[90m{String}\u001b[39m, \u001b[90mload_path\u001b[39m::\u001b[0mVector\u001b[90m{String}\u001b[39m, \u001b[90mconcrete_deps\u001b[39m::\u001b[0mVector\u001b[90m{Pair{Base.PkgId, UInt64}}\u001b[39m, \u001b[90msource\u001b[39m::\u001b[0mNothing\u001b[0m\u001b[1m)\u001b[22m\n",
      "\u001b[90m    @ \u001b[39m\u001b[90mBase\u001b[39m \u001b[90m./\u001b[39m\u001b[90m\u001b[4mloading.jl:1318\u001b[24m\u001b[39m\n",
      " [11] top-level scope\n",
      "\u001b[90m    @ \u001b[39m\u001b[90m\u001b[4mnone:1\u001b[24m\u001b[39m\n",
      " [12] \u001b[0m\u001b[1meval\u001b[22m\n",
      "\u001b[90m    @ \u001b[39m\u001b[90m./\u001b[39m\u001b[90m\u001b[4mboot.jl:373\u001b[24m\u001b[39m\u001b[90m [inlined]\u001b[39m\n",
      " [13] \u001b[0m\u001b[1meval\u001b[22m\u001b[0m\u001b[1m(\u001b[22m\u001b[90mx\u001b[39m::\u001b[0mExpr\u001b[0m\u001b[1m)\u001b[22m\n",
      "\u001b[90m    @ \u001b[39m\u001b[90mBase.MainInclude\u001b[39m \u001b[90m./\u001b[39m\u001b[90m\u001b[4mclient.jl:453\u001b[24m\u001b[39m\n",
      " [14] top-level scope\n",
      "\u001b[90m    @ \u001b[39m\u001b[90m\u001b[4mnone:1\u001b[24m\u001b[39m\n",
      "during initialization of module Gtk\n",
      "in expression starting at /home/eric/.julia/packages/ImageView/AJiQh/src/ImageView.jl:1\n"
     ]
    },
    {
     "ename": "LoadError",
     "evalue": "Failed to precompile ImageView [86fae568-95e7-573e-a6b2-d8a6b900c9ef] to /home/eric/.julia/compiled/v1.7/ImageView/jl_RXiz24.",
     "output_type": "error",
     "traceback": [
      "Failed to precompile ImageView [86fae568-95e7-573e-a6b2-d8a6b900c9ef] to /home/eric/.julia/compiled/v1.7/ImageView/jl_RXiz24.",
      "",
      "Stacktrace:",
      " [1] error(s::String)",
      "   @ Base ./error.jl:33",
      " [2] compilecache(pkg::Base.PkgId, path::String, internal_stderr::IO, internal_stdout::IO, ignore_loaded_modules::Bool)",
      "   @ Base ./loading.jl:1466",
      " [3] compilecache(pkg::Base.PkgId, path::String)",
      "   @ Base ./loading.jl:1410",
      " [4] _require(pkg::Base.PkgId)",
      "   @ Base ./loading.jl:1120",
      " [5] require(uuidkey::Base.PkgId)",
      "   @ Base ./loading.jl:1013",
      " [6] require(into::Module, mod::Symbol)",
      "   @ Base ./loading.jl:997",
      " [7] eval",
      "   @ ./boot.jl:373 [inlined]",
      " [8] include_string(mapexpr::typeof(REPL.softscope), mod::Module, code::String, filename::String)",
      "   @ Base ./loading.jl:1196"
     ]
    }
   ],
   "source": [
    "using Images, TestImages, Deconvolution, FFTW, ZernikePolynomials, ImageView\n",
    "\n",
    "img = channelview(testimage(\"cameraman\"))\n",
    "\n",
    "# model of lens aberration\n",
    "blurring = evaluateZernike(LinRange(-16,16,512), [12, 4, 0], [1.0, -1.0, 2.0], index=:OSA)\n",
    "blurring = fftshift(blurring)\n",
    "blurring = blurring ./ sum(blurring)\n",
    "\n",
    "blurred_img = fft(img) .* fft(blurring) |> ifft |> real\n",
    "\n",
    "@time restored_img = lucy(blurred_img, blurring, iterations=1000)\n",
    "\n",
    "imshow(img)\n",
    "imshow(blurring)\n",
    "imshow(blurred_img)\n",
    "imshow(restored_img)"
   ]
  },
  {
   "cell_type": "code",
   "execution_count": 53,
   "id": "2b4e1fd0-7766-4880-b2a4-8ada22fdb8f8",
   "metadata": {},
   "outputs": [
    {
     "ename": "LoadError",
     "evalue": "MethodError: no method matching precompile(::String)\n\u001b[0mClosest candidates are:\n\u001b[0m  precompile(; kwargs...) at /opt/julia-1.7.3/share/julia/stdlib/v1.7/Pkg/src/API.jl:1011\n\u001b[0m  precompile(\u001b[91m::Pkg.Types.Context\u001b[39m; internal_call, strict, warn_loaded, already_instantiated, kwargs...) at /opt/julia-1.7.3/share/julia/stdlib/v1.7/Pkg/src/API.jl:1012",
     "output_type": "error",
     "traceback": [
      "MethodError: no method matching precompile(::String)\n\u001b[0mClosest candidates are:\n\u001b[0m  precompile(; kwargs...) at /opt/julia-1.7.3/share/julia/stdlib/v1.7/Pkg/src/API.jl:1011\n\u001b[0m  precompile(\u001b[91m::Pkg.Types.Context\u001b[39m; internal_call, strict, warn_loaded, already_instantiated, kwargs...) at /opt/julia-1.7.3/share/julia/stdlib/v1.7/Pkg/src/API.jl:1012",
      "",
      "Stacktrace:",
      " [1] top-level scope",
      "   @ In[53]:1",
      " [2] eval",
      "   @ ./boot.jl:373 [inlined]",
      " [3] include_string(mapexpr::typeof(REPL.softscope), mod::Module, code::String, filename::String)",
      "   @ Base ./loading.jl:1196"
     ]
    }
   ],
   "source": [
    "import Pkg; Pkg.precompile(\"ImageView\")"
   ]
  },
  {
   "cell_type": "code",
   "execution_count": null,
   "id": "faee8907-e41d-4816-9cd6-c63bfe795599",
   "metadata": {},
   "outputs": [],
   "source": []
  }
 ],
 "metadata": {
  "kernelspec": {
   "display_name": "Julia 1.7.3",
   "language": "julia",
   "name": "julia-1.7"
  },
  "language_info": {
   "file_extension": ".jl",
   "mimetype": "application/julia",
   "name": "julia",
   "version": "1.7.3"
  }
 },
 "nbformat": 4,
 "nbformat_minor": 5
}
