{
 "cells": [
  {
   "cell_type": "code",
   "execution_count": 1,
   "id": "63479448-91c9-437d-8f81-4a68f47cf8e9",
   "metadata": {},
   "outputs": [],
   "source": [
    "using JSON\n",
    "using BPTT\n",
    "using NPZ\n",
    "using DSP\n",
    "using Plots\n",
    "using BSON: @load\n"
   ]
  },
  {
   "cell_type": "code",
   "execution_count": 22,
   "id": "7a026ca1-65e4-41fa-b7fa-7a43e23014ea",
   "metadata": {},
   "outputs": [],
   "source": [
    "Pkg.build(\"BPTT\")"
   ]
  },
  {
   "cell_type": "code",
   "execution_count": 2,
   "id": "f10e35c5-92ae-4944-b6e9-4859905035dd",
   "metadata": {},
   "outputs": [
    {
     "ename": "LoadError",
     "evalue": "BoundsError: attempt to access DataType at index [5]",
     "output_type": "error",
     "traceback": [
      "BoundsError: attempt to access DataType at index [5]",
      "",
      "Stacktrace:",
      "  [1] newstruct!(::Identity{Matrix{Float32}, Vector{Float32}, Nothing}, ::Matrix{Float32}, ::Vector{Float32}, ::Bool, ::Nothing, ::Int64)",
      "    @ BSON ~/.julia/packages/BSON/73cTU/src/extensions.jl:107",
      "  [2] newstruct_raw(cache::IdDict{Any, Any}, T::Type, d::Dict{Symbol, Any}, init::Module)",
      "    @ BSON ~/.julia/packages/BSON/73cTU/src/extensions.jl:154",
      "  [3] (::BSON.var\"#49#50\")(d::Dict{Symbol, Any}, cache::IdDict{Any, Any}, init::Module)",
      "    @ BSON ~/.julia/packages/BSON/73cTU/src/extensions.jl:169",
      "  [4] raise_recursive(d::Dict{Symbol, Any}, cache::IdDict{Any, Any}, init::Module)",
      "    @ BSON ~/.julia/packages/BSON/73cTU/src/read.jl:92",
      "  [5] (::BSON.var\"#23#24\"{IdDict{Any, Any}, Module})(x::Dict{Symbol, Any})",
      "    @ BSON ~/.julia/packages/BSON/73cTU/src/read.jl:98",
      "  [6] applychildren!(f::BSON.var\"#23#24\"{IdDict{Any, Any}, Module}, x::Vector{Any})",
      "    @ BSON ~/.julia/packages/BSON/73cTU/src/BSON.jl:26",
      "  [7] raise_recursive",
      "    @ ~/.julia/packages/BSON/73cTU/src/read.jl:98 [inlined]",
      "  [8] (::BSON.var\"#19#22\"{IdDict{Any, Any}, Module})(x::Vector{Any})",
      "    @ BSON ~/.julia/packages/BSON/73cTU/src/read.jl:86",
      "  [9] applychildren!(f::BSON.var\"#19#22\"{IdDict{Any, Any}, Module}, x::Dict{Symbol, Any})",
      "    @ BSON ~/.julia/packages/BSON/73cTU/src/BSON.jl:19",
      " [10] _raise_recursive(d::Dict{Symbol, Any}, cache::IdDict{Any, Any}, init::Module)",
      "    @ BSON ~/.julia/packages/BSON/73cTU/src/read.jl:86",
      " [11] raise_recursive(d::Dict{Symbol, Any}, cache::IdDict{Any, Any}, init::Module)",
      "    @ BSON ~/.julia/packages/BSON/73cTU/src/read.jl:93",
      " [12] raise_recursive",
      "    @ ~/.julia/packages/BSON/73cTU/src/read.jl:103 [inlined]",
      " [13] load (repeats 2 times)",
      "    @ ~/.julia/packages/BSON/73cTU/src/read.jl:108 [inlined]",
      " [14] top-level scope",
      "    @ ~/.julia/packages/BSON/73cTU/src/BSON.jl:50",
      " [15] eval",
      "    @ ./boot.jl:368 [inlined]",
      " [16] include_string(mapexpr::typeof(REPL.softscope), mod::Module, code::String, filename::String)",
      "    @ Base ./loading.jl:1428"
     ]
    }
   ],
   "source": [
    "@load \"/home/eric/src/bptt-julia-mri/Results/lorenz_model/001/checkpoints/model_5000.bson\" model\n",
    "\n",
    "model_lin = model;"
   ]
  },
  {
   "cell_type": "code",
   "execution_count": 29,
   "id": "558b136e-dbbe-4b93-b65a-57a4c4fcb649",
   "metadata": {},
   "outputs": [
    {
     "ename": "LoadError",
     "evalue": "type Affine has no field padding",
     "output_type": "error",
     "traceback": [
      "type Affine has no field padding",
      "",
      "Stacktrace:",
      " [1] getproperty(x::Affine{Matrix{Float32}, Vector{Float32}}, f::Symbol)",
      "   @ Base ./Base.jl:38",
      " [2] top-level scope",
      "   @ In[29]:3",
      " [3] eval",
      "   @ ./boot.jl:368 [inlined]",
      " [4] include_string(mapexpr::typeof(REPL.softscope), mod::Module, code::String, filename::String)",
      "   @ Base ./loading.jl:1428"
     ]
    }
   ],
   "source": [
    "i = Affine(3, 3)\n",
    "\n",
    "i.padding\n"
   ]
  },
  {
   "cell_type": "code",
   "execution_count": 3,
   "id": "9787e7ea-955b-4cf0-a234-056b2df20b1d",
   "metadata": {},
   "outputs": [
    {
     "data": {
      "text/plain": [
       "(:B, :b, :use_bias, :L)"
      ]
     },
     "execution_count": 3,
     "metadata": {},
     "output_type": "execute_result"
    }
   ],
   "source": [
    "typeof(Identity(3,3))\n",
    "\n",
    "fieldnames(typeof(Identity(3,3)))"
   ]
  },
  {
   "cell_type": "code",
   "execution_count": 4,
   "id": "a5f0afb2-794e-486b-bcf9-0f63ea74ef02",
   "metadata": {},
   "outputs": [
    {
     "ename": "LoadError",
     "evalue": "UndefVarError: HRF_Observation not defined",
     "output_type": "error",
     "traceback": [
      "UndefVarError: HRF_Observation not defined",
      "",
      "Stacktrace:",
      " [1] top-level scope",
      "   @ :0",
      " [2] eval",
      "   @ ./boot.jl:368 [inlined]",
      " [3] include_string(mapexpr::typeof(REPL.softscope), mod::Module, code::String, filename::String)",
      "   @ Base ./loading.jl:1428"
     ]
    }
   ],
   "source": [
    "HRF_Observation"
   ]
  },
  {
   "cell_type": "code",
   "execution_count": null,
   "id": "c1526055-2a91-45f7-be99-c507d2025555",
   "metadata": {},
   "outputs": [],
   "source": []
  }
 ],
 "metadata": {
  "kernelspec": {
   "display_name": "Julia 1.8.3",
   "language": "julia",
   "name": "julia-1.8"
  },
  "language_info": {
   "file_extension": ".jl",
   "mimetype": "application/julia",
   "name": "julia",
   "version": "1.8.3"
  }
 },
 "nbformat": 4,
 "nbformat_minor": 5
}
